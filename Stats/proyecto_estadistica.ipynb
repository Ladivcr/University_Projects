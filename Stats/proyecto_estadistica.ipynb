{
  "nbformat": 4,
  "nbformat_minor": 0,
  "metadata": {
    "colab": {
      "name": "proyecto_estadistica.ipynb",
      "provenance": [],
      "collapsed_sections": [],
      "toc_visible": true
    },
    "kernelspec": {
      "name": "python3",
      "display_name": "Python 3"
    }
  },
  "cells": [
    {
      "cell_type": "markdown",
      "metadata": {
        "id": "HeJ8KQnrze37"
      },
      "source": [
        "# Sobre los datos\n",
        "- El dataset correspondiente al *índice Gini* contiene paises, años y el indice que va de cero a 100. \n",
        "\n",
        "- El dataset correspondiente al *empleo femenino en la industria* contiene, paises, años y el crecimiento del empleo femenino en el sector industrial en porcentaje. "
      ]
    },
    {
      "cell_type": "code",
      "metadata": {
        "id": "qZKsICUfHCM5"
      },
      "source": [
        "#Cargamos las librerias que vamos a necesitar\n",
        "import pandas as pd\n",
        "import seaborn as sns\n",
        "from scipy.stats.stats import pearsonr"
      ],
      "execution_count": null,
      "outputs": []
    },
    {
      "cell_type": "markdown",
      "metadata": {
        "id": "dj3NOykuBQFC"
      },
      "source": [
        "# **Carga de datos**"
      ]
    },
    {
      "cell_type": "code",
      "metadata": {
        "id": "GT_H9Ju2HHrT"
      },
      "source": [
        "gini = pd.read_csv('/content/GINI_proyecto.csv')\n",
        "indus_woman = pd.read_csv('/content/industria_procentaje_crecimiento_mujeres.csv')"
      ],
      "execution_count": null,
      "outputs": []
    },
    {
      "cell_type": "markdown",
      "metadata": {
        "id": "qbvHXIjxBS7z"
      },
      "source": [
        "## **GINI**"
      ]
    },
    {
      "cell_type": "code",
      "metadata": {
        "colab": {
          "base_uri": "https://localhost:8080/",
          "height": 233
        },
        "id": "gzsSKlXRIC7U",
        "outputId": "f03925ee-54c2-40a2-8d9c-f0022e7ca9d3"
      },
      "source": [
        "gini.head(3)"
      ],
      "execution_count": null,
      "outputs": [
        {
          "output_type": "execute_result",
          "data": {
            "text/html": [
              "<div>\n",
              "<style scoped>\n",
              "    .dataframe tbody tr th:only-of-type {\n",
              "        vertical-align: middle;\n",
              "    }\n",
              "\n",
              "    .dataframe tbody tr th {\n",
              "        vertical-align: top;\n",
              "    }\n",
              "\n",
              "    .dataframe thead th {\n",
              "        text-align: right;\n",
              "    }\n",
              "</style>\n",
              "<table border=\"1\" class=\"dataframe\">\n",
              "  <thead>\n",
              "    <tr style=\"text-align: right;\">\n",
              "      <th></th>\n",
              "      <th>Country Name</th>\n",
              "      <th>Country Code</th>\n",
              "      <th>Indicator Name</th>\n",
              "      <th>Indicator Code</th>\n",
              "      <th>1960</th>\n",
              "      <th>1961</th>\n",
              "      <th>1962</th>\n",
              "      <th>1963</th>\n",
              "      <th>1964</th>\n",
              "      <th>1965</th>\n",
              "      <th>1966</th>\n",
              "      <th>1967</th>\n",
              "      <th>1968</th>\n",
              "      <th>1969</th>\n",
              "      <th>1970</th>\n",
              "      <th>1971</th>\n",
              "      <th>1972</th>\n",
              "      <th>1973</th>\n",
              "      <th>1974</th>\n",
              "      <th>1975</th>\n",
              "      <th>1976</th>\n",
              "      <th>1977</th>\n",
              "      <th>1978</th>\n",
              "      <th>1979</th>\n",
              "      <th>1980</th>\n",
              "      <th>1981</th>\n",
              "      <th>1982</th>\n",
              "      <th>1983</th>\n",
              "      <th>1984</th>\n",
              "      <th>1985</th>\n",
              "      <th>1986</th>\n",
              "      <th>1987</th>\n",
              "      <th>1988</th>\n",
              "      <th>1989</th>\n",
              "      <th>1990</th>\n",
              "      <th>1991</th>\n",
              "      <th>1992</th>\n",
              "      <th>1993</th>\n",
              "      <th>1994</th>\n",
              "      <th>1995</th>\n",
              "      <th>1996</th>\n",
              "      <th>1997</th>\n",
              "      <th>1998</th>\n",
              "      <th>1999</th>\n",
              "      <th>2000</th>\n",
              "      <th>2001</th>\n",
              "      <th>2002</th>\n",
              "      <th>2003</th>\n",
              "      <th>2004</th>\n",
              "      <th>2005</th>\n",
              "      <th>2006</th>\n",
              "      <th>2007</th>\n",
              "      <th>2008</th>\n",
              "      <th>2009</th>\n",
              "      <th>2010</th>\n",
              "      <th>2011</th>\n",
              "      <th>2012</th>\n",
              "      <th>2013</th>\n",
              "      <th>2014</th>\n",
              "      <th>2015</th>\n",
              "      <th>2016</th>\n",
              "      <th>2017</th>\n",
              "      <th>2018</th>\n",
              "      <th>2019</th>\n",
              "      <th>2020</th>\n",
              "    </tr>\n",
              "  </thead>\n",
              "  <tbody>\n",
              "    <tr>\n",
              "      <th>0</th>\n",
              "      <td>Aruba</td>\n",
              "      <td>ABW</td>\n",
              "      <td>Índice de Gini</td>\n",
              "      <td>SI.POV.GINI</td>\n",
              "      <td>NaN</td>\n",
              "      <td>NaN</td>\n",
              "      <td>NaN</td>\n",
              "      <td>NaN</td>\n",
              "      <td>NaN</td>\n",
              "      <td>NaN</td>\n",
              "      <td>NaN</td>\n",
              "      <td>NaN</td>\n",
              "      <td>NaN</td>\n",
              "      <td>NaN</td>\n",
              "      <td>NaN</td>\n",
              "      <td>NaN</td>\n",
              "      <td>NaN</td>\n",
              "      <td>NaN</td>\n",
              "      <td>NaN</td>\n",
              "      <td>NaN</td>\n",
              "      <td>NaN</td>\n",
              "      <td>NaN</td>\n",
              "      <td>NaN</td>\n",
              "      <td>NaN</td>\n",
              "      <td>NaN</td>\n",
              "      <td>NaN</td>\n",
              "      <td>NaN</td>\n",
              "      <td>NaN</td>\n",
              "      <td>NaN</td>\n",
              "      <td>NaN</td>\n",
              "      <td>NaN</td>\n",
              "      <td>NaN</td>\n",
              "      <td>NaN</td>\n",
              "      <td>NaN</td>\n",
              "      <td>NaN</td>\n",
              "      <td>NaN</td>\n",
              "      <td>NaN</td>\n",
              "      <td>NaN</td>\n",
              "      <td>NaN</td>\n",
              "      <td>NaN</td>\n",
              "      <td>NaN</td>\n",
              "      <td>NaN</td>\n",
              "      <td>NaN</td>\n",
              "      <td>NaN</td>\n",
              "      <td>NaN</td>\n",
              "      <td>NaN</td>\n",
              "      <td>NaN</td>\n",
              "      <td>NaN</td>\n",
              "      <td>NaN</td>\n",
              "      <td>NaN</td>\n",
              "      <td>NaN</td>\n",
              "      <td>NaN</td>\n",
              "      <td>NaN</td>\n",
              "      <td>NaN</td>\n",
              "      <td>NaN</td>\n",
              "      <td>NaN</td>\n",
              "      <td>NaN</td>\n",
              "      <td>NaN</td>\n",
              "      <td>NaN</td>\n",
              "      <td>NaN</td>\n",
              "      <td>NaN</td>\n",
              "      <td>NaN</td>\n",
              "      <td>NaN</td>\n",
              "      <td>NaN</td>\n",
              "      <td>NaN</td>\n",
              "    </tr>\n",
              "    <tr>\n",
              "      <th>1</th>\n",
              "      <td>Afganistán</td>\n",
              "      <td>AFG</td>\n",
              "      <td>Índice de Gini</td>\n",
              "      <td>SI.POV.GINI</td>\n",
              "      <td>NaN</td>\n",
              "      <td>NaN</td>\n",
              "      <td>NaN</td>\n",
              "      <td>NaN</td>\n",
              "      <td>NaN</td>\n",
              "      <td>NaN</td>\n",
              "      <td>NaN</td>\n",
              "      <td>NaN</td>\n",
              "      <td>NaN</td>\n",
              "      <td>NaN</td>\n",
              "      <td>NaN</td>\n",
              "      <td>NaN</td>\n",
              "      <td>NaN</td>\n",
              "      <td>NaN</td>\n",
              "      <td>NaN</td>\n",
              "      <td>NaN</td>\n",
              "      <td>NaN</td>\n",
              "      <td>NaN</td>\n",
              "      <td>NaN</td>\n",
              "      <td>NaN</td>\n",
              "      <td>NaN</td>\n",
              "      <td>NaN</td>\n",
              "      <td>NaN</td>\n",
              "      <td>NaN</td>\n",
              "      <td>NaN</td>\n",
              "      <td>NaN</td>\n",
              "      <td>NaN</td>\n",
              "      <td>NaN</td>\n",
              "      <td>NaN</td>\n",
              "      <td>NaN</td>\n",
              "      <td>NaN</td>\n",
              "      <td>NaN</td>\n",
              "      <td>NaN</td>\n",
              "      <td>NaN</td>\n",
              "      <td>NaN</td>\n",
              "      <td>NaN</td>\n",
              "      <td>NaN</td>\n",
              "      <td>NaN</td>\n",
              "      <td>NaN</td>\n",
              "      <td>NaN</td>\n",
              "      <td>NaN</td>\n",
              "      <td>NaN</td>\n",
              "      <td>NaN</td>\n",
              "      <td>NaN</td>\n",
              "      <td>NaN</td>\n",
              "      <td>NaN</td>\n",
              "      <td>NaN</td>\n",
              "      <td>NaN</td>\n",
              "      <td>NaN</td>\n",
              "      <td>NaN</td>\n",
              "      <td>NaN</td>\n",
              "      <td>NaN</td>\n",
              "      <td>NaN</td>\n",
              "      <td>NaN</td>\n",
              "      <td>NaN</td>\n",
              "      <td>NaN</td>\n",
              "      <td>NaN</td>\n",
              "      <td>NaN</td>\n",
              "      <td>NaN</td>\n",
              "      <td>NaN</td>\n",
              "      <td>NaN</td>\n",
              "    </tr>\n",
              "    <tr>\n",
              "      <th>2</th>\n",
              "      <td>Angola</td>\n",
              "      <td>AGO</td>\n",
              "      <td>Índice de Gini</td>\n",
              "      <td>SI.POV.GINI</td>\n",
              "      <td>NaN</td>\n",
              "      <td>NaN</td>\n",
              "      <td>NaN</td>\n",
              "      <td>NaN</td>\n",
              "      <td>NaN</td>\n",
              "      <td>NaN</td>\n",
              "      <td>NaN</td>\n",
              "      <td>NaN</td>\n",
              "      <td>NaN</td>\n",
              "      <td>NaN</td>\n",
              "      <td>NaN</td>\n",
              "      <td>NaN</td>\n",
              "      <td>NaN</td>\n",
              "      <td>NaN</td>\n",
              "      <td>NaN</td>\n",
              "      <td>NaN</td>\n",
              "      <td>NaN</td>\n",
              "      <td>NaN</td>\n",
              "      <td>NaN</td>\n",
              "      <td>NaN</td>\n",
              "      <td>NaN</td>\n",
              "      <td>NaN</td>\n",
              "      <td>NaN</td>\n",
              "      <td>NaN</td>\n",
              "      <td>NaN</td>\n",
              "      <td>NaN</td>\n",
              "      <td>NaN</td>\n",
              "      <td>NaN</td>\n",
              "      <td>NaN</td>\n",
              "      <td>NaN</td>\n",
              "      <td>NaN</td>\n",
              "      <td>NaN</td>\n",
              "      <td>NaN</td>\n",
              "      <td>NaN</td>\n",
              "      <td>NaN</td>\n",
              "      <td>NaN</td>\n",
              "      <td>NaN</td>\n",
              "      <td>NaN</td>\n",
              "      <td>NaN</td>\n",
              "      <td>NaN</td>\n",
              "      <td>52.0</td>\n",
              "      <td>NaN</td>\n",
              "      <td>NaN</td>\n",
              "      <td>NaN</td>\n",
              "      <td>NaN</td>\n",
              "      <td>NaN</td>\n",
              "      <td>NaN</td>\n",
              "      <td>NaN</td>\n",
              "      <td>42.7</td>\n",
              "      <td>NaN</td>\n",
              "      <td>NaN</td>\n",
              "      <td>NaN</td>\n",
              "      <td>NaN</td>\n",
              "      <td>NaN</td>\n",
              "      <td>NaN</td>\n",
              "      <td>NaN</td>\n",
              "      <td>NaN</td>\n",
              "      <td>NaN</td>\n",
              "      <td>51.3</td>\n",
              "      <td>NaN</td>\n",
              "      <td>NaN</td>\n",
              "    </tr>\n",
              "  </tbody>\n",
              "</table>\n",
              "</div>"
            ],
            "text/plain": [
              "  Country Name Country Code  Indicator Name  ...  2018  2019  2020\n",
              "0        Aruba          ABW  Índice de Gini  ...   NaN   NaN   NaN\n",
              "1   Afganistán          AFG  Índice de Gini  ...   NaN   NaN   NaN\n",
              "2       Angola          AGO  Índice de Gini  ...  51.3   NaN   NaN\n",
              "\n",
              "[3 rows x 65 columns]"
            ]
          },
          "metadata": {
            "tags": []
          },
          "execution_count": 94
        }
      ]
    },
    {
      "cell_type": "code",
      "metadata": {
        "colab": {
          "base_uri": "https://localhost:8080/",
          "height": 353
        },
        "id": "Xf983FKm6cln",
        "outputId": "a774887d-da05-490b-b7d3-c9de96a0f62c"
      },
      "source": [
        "sns.heatmap(gini.isnull(), cbar=False)"
      ],
      "execution_count": null,
      "outputs": [
        {
          "output_type": "execute_result",
          "data": {
            "text/plain": [
              "<matplotlib.axes._subplots.AxesSubplot at 0x7fc1d4ff7978>"
            ]
          },
          "metadata": {
            "tags": []
          },
          "execution_count": 95
        },
        {
          "output_type": "display_data",
          "data": {
            "image/png": "[encoded data removed]",
            "text/plain": [
              "<Figure size 432x288 with 1 Axes>"
            ]
          },
          "metadata": {
            "tags": [],
            "needs_background": "light"
          }
        }
      ]
    },
    {
      "cell_type": "markdown",
      "metadata": {
        "id": "d1pG8uh6S0iD"
      },
      "source": [
        "> Observamos que tenemos muchisimos datos faltantes para todos los países, por lo que hemos de tomar en cuenta esto a la hora de de filtrar los datos del porcentaje de crecimiento del empleo femenino en la industria para poder hacer la comparativa de tal manera que los años que usemos sean datos que efectivamente cuentan con datos tanto del **Percent woman** como de **GINI** "
      ]
    },
    {
      "cell_type": "code",
      "metadata": {
        "colab": {
          "base_uri": "https://localhost:8080/"
        },
        "id": "bNV6Pr_nG5rh",
        "outputId": "cb5a3c3d-08eb-4e4b-e26c-c3edd899055f"
      },
      "source": [
        "gini.columns"
      ],
      "execution_count": null,
      "outputs": [
        {
          "output_type": "execute_result",
          "data": {
            "text/plain": [
              "Index(['Country Name', 'Country Code', 'Indicator Name', 'Indicator Code',\n",
              "       '1960', '1961', '1962', '1963', '1964', '1965', '1966', '1967', '1968',\n",
              "       '1969', '1970', '1971', '1972', '1973', '1974', '1975', '1976', '1977',\n",
              "       '1978', '1979', '1980', '1981', '1982', '1983', '1984', '1985', '1986',\n",
              "       '1987', '1988', '1989', '1990', '1991', '1992', '1993', '1994', '1995',\n",
              "       '1996', '1997', '1998', '1999', '2000', '2001', '2002', '2003', '2004',\n",
              "       '2005', '2006', '2007', '2008', '2009', '2010', '2011', '2012', '2013',\n",
              "       '2014', '2015', '2016', '2017', '2018', '2019', '2020'],\n",
              "      dtype='object')"
            ]
          },
          "metadata": {
            "tags": []
          },
          "execution_count": 96
        }
      ]
    },
    {
      "cell_type": "markdown",
      "metadata": {
        "id": "Di4yZmB7GUKz"
      },
      "source": [
        "### **Filtrado de datos GINI**"
      ]
    },
    {
      "cell_type": "code",
      "metadata": {
        "id": "97tnNcSNOa7u"
      },
      "source": [
        "def data_to_work_gini(country, Gini):\n",
        "  \"\"\"Get data by country\n",
        "  country = str country\n",
        "  Gini = DataFrame with data GINI\n",
        "  \"\"\"\n",
        "  # In this case I'm going to work with 'México'\n",
        "  pais = Gini.loc[Gini[\"Country Name\"] == country]\n",
        "  #print(pais)\n",
        "  years = list(Gini.columns)\n",
        "  years = years[4:]\n",
        "  #print(years)\n",
        "  #years.pop(0)\n",
        "  #years.pop(0)\n",
        "  #years.pop(0)\n",
        "  #years.pop(0)\n",
        "  diccionario = {'Country':[], 'Year': [], 'GINI':[]}\n",
        "\n",
        "  for year in range(len(years)):\n",
        "    diccionario[\"Country\"].append(country)\n",
        "    diccionario[\"Year\"].append(years[year])\n",
        "    value_gini = float(pais[years[year]]) \n",
        "    diccionario['GINI'].append(value_gini)\n",
        "\n",
        "\n",
        "  country_gini = pd.DataFrame(diccionario)\n",
        "\n",
        "  return (country_gini)"
      ],
      "execution_count": null,
      "outputs": []
    },
    {
      "cell_type": "markdown",
      "metadata": {
        "id": "n_DkEaBKde9b"
      },
      "source": [
        "### Gini para México"
      ]
    },
    {
      "cell_type": "code",
      "metadata": {
        "colab": {
          "base_uri": "https://localhost:8080/",
          "height": 206
        },
        "id": "2-GUf3o3MVM6",
        "outputId": "1266d651-6ff3-4bbd-dc45-f986087552b8"
      },
      "source": [
        "mex_gini = data_to_work_gini(\"México\", gini)\n",
        "mex_gini.head() # Comprobamos que si se hayan organizado bien"
      ],
      "execution_count": null,
      "outputs": [
        {
          "output_type": "execute_result",
          "data": {
            "text/html": [
              "<div>\n",
              "<style scoped>\n",
              "    .dataframe tbody tr th:only-of-type {\n",
              "        vertical-align: middle;\n",
              "    }\n",
              "\n",
              "    .dataframe tbody tr th {\n",
              "        vertical-align: top;\n",
              "    }\n",
              "\n",
              "    .dataframe thead th {\n",
              "        text-align: right;\n",
              "    }\n",
              "</style>\n",
              "<table border=\"1\" class=\"dataframe\">\n",
              "  <thead>\n",
              "    <tr style=\"text-align: right;\">\n",
              "      <th></th>\n",
              "      <th>Country</th>\n",
              "      <th>Year</th>\n",
              "      <th>GINI</th>\n",
              "    </tr>\n",
              "  </thead>\n",
              "  <tbody>\n",
              "    <tr>\n",
              "      <th>0</th>\n",
              "      <td>México</td>\n",
              "      <td>1960</td>\n",
              "      <td>NaN</td>\n",
              "    </tr>\n",
              "    <tr>\n",
              "      <th>1</th>\n",
              "      <td>México</td>\n",
              "      <td>1961</td>\n",
              "      <td>NaN</td>\n",
              "    </tr>\n",
              "    <tr>\n",
              "      <th>2</th>\n",
              "      <td>México</td>\n",
              "      <td>1962</td>\n",
              "      <td>NaN</td>\n",
              "    </tr>\n",
              "    <tr>\n",
              "      <th>3</th>\n",
              "      <td>México</td>\n",
              "      <td>1963</td>\n",
              "      <td>NaN</td>\n",
              "    </tr>\n",
              "    <tr>\n",
              "      <th>4</th>\n",
              "      <td>México</td>\n",
              "      <td>1964</td>\n",
              "      <td>NaN</td>\n",
              "    </tr>\n",
              "  </tbody>\n",
              "</table>\n",
              "</div>"
            ],
            "text/plain": [
              "  Country  Year  GINI\n",
              "0  México  1960   NaN\n",
              "1  México  1961   NaN\n",
              "2  México  1962   NaN\n",
              "3  México  1963   NaN\n",
              "4  México  1964   NaN"
            ]
          },
          "metadata": {
            "tags": []
          },
          "execution_count": 98
        }
      ]
    },
    {
      "cell_type": "code",
      "metadata": {
        "colab": {
          "base_uri": "https://localhost:8080/",
          "height": 285
        },
        "id": "c5GpPnPSYGhl",
        "outputId": "2b182a1e-98d3-4fa8-938d-284d95e762be"
      },
      "source": [
        "sns.heatmap(mex_gini.isnull(), cbar=False)"
      ],
      "execution_count": null,
      "outputs": [
        {
          "output_type": "execute_result",
          "data": {
            "text/plain": [
              "<matplotlib.axes._subplots.AxesSubplot at 0x7fc1cc803278>"
            ]
          },
          "metadata": {
            "tags": []
          },
          "execution_count": 99
        },
        {
          "output_type": "display_data",
          "data": {
            "image/png": "[encoded data removed]",
            "text/plain": [
              "<Figure size 432x288 with 1 Axes>"
            ]
          },
          "metadata": {
            "tags": [],
            "needs_background": "light"
          }
        }
      ]
    },
    {
      "cell_type": "markdown",
      "metadata": {
        "id": "FrZfqXlV2Uo_"
      },
      "source": [
        "###**Filtrado de datos PW**"
      ]
    },
    {
      "cell_type": "markdown",
      "metadata": {
        "id": "VDguIyUsBXq-"
      },
      "source": [
        "**Porcentaje de empleo femenino en el sector industrial** \n",
        "\n"
      ]
    },
    {
      "cell_type": "code",
      "metadata": {
        "colab": {
          "base_uri": "https://localhost:8080/",
          "height": 441
        },
        "id": "bDqk1GulBCRN",
        "outputId": "0ab82a20-38db-4202-a916-21fc18850e0f"
      },
      "source": [
        "indus_woman.head(3)"
      ],
      "execution_count": null,
      "outputs": [
        {
          "output_type": "execute_result",
          "data": {
            "text/html": [
              "<div>\n",
              "<style scoped>\n",
              "    .dataframe tbody tr th:only-of-type {\n",
              "        vertical-align: middle;\n",
              "    }\n",
              "\n",
              "    .dataframe tbody tr th {\n",
              "        vertical-align: top;\n",
              "    }\n",
              "\n",
              "    .dataframe thead th {\n",
              "        text-align: right;\n",
              "    }\n",
              "</style>\n",
              "<table border=\"1\" class=\"dataframe\">\n",
              "  <thead>\n",
              "    <tr style=\"text-align: right;\">\n",
              "      <th></th>\n",
              "      <th>Country Name</th>\n",
              "      <th>Country Code</th>\n",
              "      <th>Indicator Name</th>\n",
              "      <th>Indicator Code</th>\n",
              "      <th>1960</th>\n",
              "      <th>1961</th>\n",
              "      <th>1962</th>\n",
              "      <th>1963</th>\n",
              "      <th>1964</th>\n",
              "      <th>1965</th>\n",
              "      <th>1966</th>\n",
              "      <th>1967</th>\n",
              "      <th>1968</th>\n",
              "      <th>1969</th>\n",
              "      <th>1970</th>\n",
              "      <th>1971</th>\n",
              "      <th>1972</th>\n",
              "      <th>1973</th>\n",
              "      <th>1974</th>\n",
              "      <th>1975</th>\n",
              "      <th>1976</th>\n",
              "      <th>1977</th>\n",
              "      <th>1978</th>\n",
              "      <th>1979</th>\n",
              "      <th>1980</th>\n",
              "      <th>1981</th>\n",
              "      <th>1982</th>\n",
              "      <th>1983</th>\n",
              "      <th>1984</th>\n",
              "      <th>1985</th>\n",
              "      <th>1986</th>\n",
              "      <th>1987</th>\n",
              "      <th>1988</th>\n",
              "      <th>1989</th>\n",
              "      <th>1990</th>\n",
              "      <th>1991</th>\n",
              "      <th>1992</th>\n",
              "      <th>1993</th>\n",
              "      <th>1994</th>\n",
              "      <th>1995</th>\n",
              "      <th>1996</th>\n",
              "      <th>1997</th>\n",
              "      <th>1998</th>\n",
              "      <th>1999</th>\n",
              "      <th>2000</th>\n",
              "      <th>2001</th>\n",
              "      <th>2002</th>\n",
              "      <th>2003</th>\n",
              "      <th>2004</th>\n",
              "      <th>2005</th>\n",
              "      <th>2006</th>\n",
              "      <th>2007</th>\n",
              "      <th>2008</th>\n",
              "      <th>2009</th>\n",
              "      <th>2010</th>\n",
              "      <th>2011</th>\n",
              "      <th>2012</th>\n",
              "      <th>2013</th>\n",
              "      <th>2014</th>\n",
              "      <th>2015</th>\n",
              "      <th>2016</th>\n",
              "      <th>2017</th>\n",
              "      <th>2018</th>\n",
              "      <th>2019</th>\n",
              "      <th>2020</th>\n",
              "    </tr>\n",
              "  </thead>\n",
              "  <tbody>\n",
              "    <tr>\n",
              "      <th>0</th>\n",
              "      <td>Aruba</td>\n",
              "      <td>ABW</td>\n",
              "      <td>Empleados en la industria, mujeres (% del empl...</td>\n",
              "      <td>SL.IND.EMPL.FE.ZS</td>\n",
              "      <td>NaN</td>\n",
              "      <td>NaN</td>\n",
              "      <td>NaN</td>\n",
              "      <td>NaN</td>\n",
              "      <td>NaN</td>\n",
              "      <td>NaN</td>\n",
              "      <td>NaN</td>\n",
              "      <td>NaN</td>\n",
              "      <td>NaN</td>\n",
              "      <td>NaN</td>\n",
              "      <td>NaN</td>\n",
              "      <td>NaN</td>\n",
              "      <td>NaN</td>\n",
              "      <td>NaN</td>\n",
              "      <td>NaN</td>\n",
              "      <td>NaN</td>\n",
              "      <td>NaN</td>\n",
              "      <td>NaN</td>\n",
              "      <td>NaN</td>\n",
              "      <td>NaN</td>\n",
              "      <td>NaN</td>\n",
              "      <td>NaN</td>\n",
              "      <td>NaN</td>\n",
              "      <td>NaN</td>\n",
              "      <td>NaN</td>\n",
              "      <td>NaN</td>\n",
              "      <td>NaN</td>\n",
              "      <td>NaN</td>\n",
              "      <td>NaN</td>\n",
              "      <td>NaN</td>\n",
              "      <td>NaN</td>\n",
              "      <td>NaN</td>\n",
              "      <td>NaN</td>\n",
              "      <td>NaN</td>\n",
              "      <td>NaN</td>\n",
              "      <td>NaN</td>\n",
              "      <td>NaN</td>\n",
              "      <td>NaN</td>\n",
              "      <td>NaN</td>\n",
              "      <td>NaN</td>\n",
              "      <td>NaN</td>\n",
              "      <td>NaN</td>\n",
              "      <td>NaN</td>\n",
              "      <td>NaN</td>\n",
              "      <td>NaN</td>\n",
              "      <td>NaN</td>\n",
              "      <td>NaN</td>\n",
              "      <td>NaN</td>\n",
              "      <td>NaN</td>\n",
              "      <td>NaN</td>\n",
              "      <td>NaN</td>\n",
              "      <td>NaN</td>\n",
              "      <td>NaN</td>\n",
              "      <td>NaN</td>\n",
              "      <td>NaN</td>\n",
              "      <td>NaN</td>\n",
              "      <td>NaN</td>\n",
              "      <td>NaN</td>\n",
              "      <td>NaN</td>\n",
              "      <td>NaN</td>\n",
              "      <td>NaN</td>\n",
              "    </tr>\n",
              "    <tr>\n",
              "      <th>1</th>\n",
              "      <td>Afganistán</td>\n",
              "      <td>AFG</td>\n",
              "      <td>Empleados en la industria, mujeres (% del empl...</td>\n",
              "      <td>SL.IND.EMPL.FE.ZS</td>\n",
              "      <td>NaN</td>\n",
              "      <td>NaN</td>\n",
              "      <td>NaN</td>\n",
              "      <td>NaN</td>\n",
              "      <td>NaN</td>\n",
              "      <td>NaN</td>\n",
              "      <td>NaN</td>\n",
              "      <td>NaN</td>\n",
              "      <td>NaN</td>\n",
              "      <td>NaN</td>\n",
              "      <td>NaN</td>\n",
              "      <td>NaN</td>\n",
              "      <td>NaN</td>\n",
              "      <td>NaN</td>\n",
              "      <td>NaN</td>\n",
              "      <td>NaN</td>\n",
              "      <td>NaN</td>\n",
              "      <td>NaN</td>\n",
              "      <td>NaN</td>\n",
              "      <td>NaN</td>\n",
              "      <td>NaN</td>\n",
              "      <td>NaN</td>\n",
              "      <td>NaN</td>\n",
              "      <td>NaN</td>\n",
              "      <td>NaN</td>\n",
              "      <td>NaN</td>\n",
              "      <td>NaN</td>\n",
              "      <td>NaN</td>\n",
              "      <td>NaN</td>\n",
              "      <td>NaN</td>\n",
              "      <td>NaN</td>\n",
              "      <td>14.686</td>\n",
              "      <td>14.455</td>\n",
              "      <td>13.780</td>\n",
              "      <td>13.073</td>\n",
              "      <td>13.420</td>\n",
              "      <td>12.969</td>\n",
              "      <td>12.57</td>\n",
              "      <td>12.189</td>\n",
              "      <td>11.758</td>\n",
              "      <td>11.236</td>\n",
              "      <td>10.527</td>\n",
              "      <td>11.391</td>\n",
              "      <td>11.422</td>\n",
              "      <td>11.109</td>\n",
              "      <td>11.488</td>\n",
              "      <td>11.730</td>\n",
              "      <td>12.633</td>\n",
              "      <td>12.933</td>\n",
              "      <td>14.616</td>\n",
              "      <td>16.280001</td>\n",
              "      <td>17.239</td>\n",
              "      <td>18.934</td>\n",
              "      <td>20.058001</td>\n",
              "      <td>21.063</td>\n",
              "      <td>21.933001</td>\n",
              "      <td>22.954</td>\n",
              "      <td>24.278999</td>\n",
              "      <td>24.476</td>\n",
              "      <td>24.691</td>\n",
              "      <td>24.844999</td>\n",
              "    </tr>\n",
              "    <tr>\n",
              "      <th>2</th>\n",
              "      <td>Angola</td>\n",
              "      <td>AGO</td>\n",
              "      <td>Empleados en la industria, mujeres (% del empl...</td>\n",
              "      <td>SL.IND.EMPL.FE.ZS</td>\n",
              "      <td>NaN</td>\n",
              "      <td>NaN</td>\n",
              "      <td>NaN</td>\n",
              "      <td>NaN</td>\n",
              "      <td>NaN</td>\n",
              "      <td>NaN</td>\n",
              "      <td>NaN</td>\n",
              "      <td>NaN</td>\n",
              "      <td>NaN</td>\n",
              "      <td>NaN</td>\n",
              "      <td>NaN</td>\n",
              "      <td>NaN</td>\n",
              "      <td>NaN</td>\n",
              "      <td>NaN</td>\n",
              "      <td>NaN</td>\n",
              "      <td>NaN</td>\n",
              "      <td>NaN</td>\n",
              "      <td>NaN</td>\n",
              "      <td>NaN</td>\n",
              "      <td>NaN</td>\n",
              "      <td>NaN</td>\n",
              "      <td>NaN</td>\n",
              "      <td>NaN</td>\n",
              "      <td>NaN</td>\n",
              "      <td>NaN</td>\n",
              "      <td>NaN</td>\n",
              "      <td>NaN</td>\n",
              "      <td>NaN</td>\n",
              "      <td>NaN</td>\n",
              "      <td>NaN</td>\n",
              "      <td>NaN</td>\n",
              "      <td>1.922</td>\n",
              "      <td>1.896</td>\n",
              "      <td>1.834</td>\n",
              "      <td>1.807</td>\n",
              "      <td>1.835</td>\n",
              "      <td>1.861</td>\n",
              "      <td>1.89</td>\n",
              "      <td>1.911</td>\n",
              "      <td>1.842</td>\n",
              "      <td>1.813</td>\n",
              "      <td>1.827</td>\n",
              "      <td>1.877</td>\n",
              "      <td>1.833</td>\n",
              "      <td>1.836</td>\n",
              "      <td>1.707</td>\n",
              "      <td>1.587</td>\n",
              "      <td>1.488</td>\n",
              "      <td>1.362</td>\n",
              "      <td>1.276</td>\n",
              "      <td>1.162000</td>\n",
              "      <td>1.115</td>\n",
              "      <td>1.144</td>\n",
              "      <td>1.155000</td>\n",
              "      <td>1.168</td>\n",
              "      <td>1.171000</td>\n",
              "      <td>1.163</td>\n",
              "      <td>1.134000</td>\n",
              "      <td>1.114</td>\n",
              "      <td>1.105</td>\n",
              "      <td>1.103000</td>\n",
              "    </tr>\n",
              "  </tbody>\n",
              "</table>\n",
              "</div>"
            ],
            "text/plain": [
              "  Country Name Country Code  ...    2019       2020\n",
              "0        Aruba          ABW  ...     NaN        NaN\n",
              "1   Afganistán          AFG  ...  24.691  24.844999\n",
              "2       Angola          AGO  ...   1.105   1.103000\n",
              "\n",
              "[3 rows x 65 columns]"
            ]
          },
          "metadata": {
            "tags": []
          },
          "execution_count": 100
        }
      ]
    },
    {
      "cell_type": "code",
      "metadata": {
        "colab": {
          "base_uri": "https://localhost:8080/",
          "height": 353
        },
        "id": "ioBYX_PiBINg",
        "outputId": "9aed1f02-49ed-40df-ac5d-3b45babc1218"
      },
      "source": [
        "sns.heatmap(indus_woman.isnull(), cbar=False)"
      ],
      "execution_count": null,
      "outputs": [
        {
          "output_type": "execute_result",
          "data": {
            "text/plain": [
              "<matplotlib.axes._subplots.AxesSubplot at 0x7fc1cc564e48>"
            ]
          },
          "metadata": {
            "tags": []
          },
          "execution_count": 101
        },
        {
          "output_type": "display_data",
          "data": {
            "image/png": "[encoded data removed]",
            "text/plain": [
              "<Figure size 432x288 with 1 Axes>"
            ]
          },
          "metadata": {
            "tags": [],
            "needs_background": "light"
          }
        }
      ]
    },
    {
      "cell_type": "code",
      "metadata": {
        "id": "NJl-fVJoBMlU"
      },
      "source": [
        "def data_to_work_pw(country, PW):\n",
        "  \"\"\"Get data by country\n",
        "  country = str country\n",
        "  PW = DataFrame with data indus_woman\n",
        "  \"\"\"\n",
        "  # In this case I'm going to work with 'México'\n",
        "  pais = PW.loc[PW[\"Country Name\"] == country]\n",
        "  #print(pais)\n",
        "  years = list(PW.columns)\n",
        "  years = years[4:]\n",
        "  #print(years)\n",
        "  #years.pop(0)\n",
        "  #years.pop(0)\n",
        "  #years.pop(0)\n",
        "  #years.pop(0)\n",
        "  diccionario = {'Country':[], 'Year': [], 'Percent Woman':[]}\n",
        "\n",
        "  for year in range(len(years)):\n",
        "    diccionario[\"Country\"].append(country)\n",
        "    diccionario[\"Year\"].append(years[year])\n",
        "    value_pw = float(pais[years[year]]) \n",
        "    diccionario['Percent Woman'].append(value_pw)\n",
        "\n",
        "\n",
        "  country_pw = pd.DataFrame(diccionario)\n",
        "\n",
        "  return (country_pw)"
      ],
      "execution_count": null,
      "outputs": []
    },
    {
      "cell_type": "markdown",
      "metadata": {
        "id": "WPAiylcjdkuX"
      },
      "source": [
        "### PW para México"
      ]
    },
    {
      "cell_type": "code",
      "metadata": {
        "colab": {
          "base_uri": "https://localhost:8080/",
          "height": 206
        },
        "id": "hfeKqC52XgK-",
        "outputId": "2488be94-e67b-4578-fc2d-209158716f7b"
      },
      "source": [
        "mex_pw = data_to_work_pw('México', indus_woman)\n",
        "mex_pw.head()"
      ],
      "execution_count": null,
      "outputs": [
        {
          "output_type": "execute_result",
          "data": {
            "text/html": [
              "<div>\n",
              "<style scoped>\n",
              "    .dataframe tbody tr th:only-of-type {\n",
              "        vertical-align: middle;\n",
              "    }\n",
              "\n",
              "    .dataframe tbody tr th {\n",
              "        vertical-align: top;\n",
              "    }\n",
              "\n",
              "    .dataframe thead th {\n",
              "        text-align: right;\n",
              "    }\n",
              "</style>\n",
              "<table border=\"1\" class=\"dataframe\">\n",
              "  <thead>\n",
              "    <tr style=\"text-align: right;\">\n",
              "      <th></th>\n",
              "      <th>Country</th>\n",
              "      <th>Year</th>\n",
              "      <th>Percent Woman</th>\n",
              "    </tr>\n",
              "  </thead>\n",
              "  <tbody>\n",
              "    <tr>\n",
              "      <th>0</th>\n",
              "      <td>México</td>\n",
              "      <td>1960</td>\n",
              "      <td>NaN</td>\n",
              "    </tr>\n",
              "    <tr>\n",
              "      <th>1</th>\n",
              "      <td>México</td>\n",
              "      <td>1961</td>\n",
              "      <td>NaN</td>\n",
              "    </tr>\n",
              "    <tr>\n",
              "      <th>2</th>\n",
              "      <td>México</td>\n",
              "      <td>1962</td>\n",
              "      <td>NaN</td>\n",
              "    </tr>\n",
              "    <tr>\n",
              "      <th>3</th>\n",
              "      <td>México</td>\n",
              "      <td>1963</td>\n",
              "      <td>NaN</td>\n",
              "    </tr>\n",
              "    <tr>\n",
              "      <th>4</th>\n",
              "      <td>México</td>\n",
              "      <td>1964</td>\n",
              "      <td>NaN</td>\n",
              "    </tr>\n",
              "  </tbody>\n",
              "</table>\n",
              "</div>"
            ],
            "text/plain": [
              "  Country  Year  Percent Woman\n",
              "0  México  1960            NaN\n",
              "1  México  1961            NaN\n",
              "2  México  1962            NaN\n",
              "3  México  1963            NaN\n",
              "4  México  1964            NaN"
            ]
          },
          "metadata": {
            "tags": []
          },
          "execution_count": 103
        }
      ]
    },
    {
      "cell_type": "code",
      "metadata": {
        "colab": {
          "base_uri": "https://localhost:8080/",
          "height": 285
        },
        "id": "HtEa9fqCX1mc",
        "outputId": "3c94b707-5ca9-44f7-a37b-15a46e655791"
      },
      "source": [
        "sns.heatmap(mex_pw.isnull(), cbar=False)"
      ],
      "execution_count": null,
      "outputs": [
        {
          "output_type": "execute_result",
          "data": {
            "text/plain": [
              "<matplotlib.axes._subplots.AxesSubplot at 0x7fc1cc539780>"
            ]
          },
          "metadata": {
            "tags": []
          },
          "execution_count": 104
        },
        {
          "output_type": "display_data",
          "data": {
            "image/png": "[encoded data removed]",
            "text/plain": [
              "<Figure size 432x288 with 1 Axes>"
            ]
          },
          "metadata": {
            "tags": [],
            "needs_background": "light"
          }
        }
      ]
    },
    {
      "cell_type": "markdown",
      "metadata": {
        "id": "TmK3q9w82enM"
      },
      "source": [
        "# **Elección de datos para trabajar**"
      ]
    },
    {
      "cell_type": "markdown",
      "metadata": {
        "id": "3MMWzBw03jCW"
      },
      "source": [
        "## **PW**"
      ]
    },
    {
      "cell_type": "code",
      "metadata": {
        "id": "8EHuSm3GYL0K"
      },
      "source": [
        "mex_pw_work = mex_pw.loc[(mex_pw['Percent Woman'].notnull())]"
      ],
      "execution_count": null,
      "outputs": []
    },
    {
      "cell_type": "code",
      "metadata": {
        "colab": {
          "base_uri": "https://localhost:8080/",
          "height": 206
        },
        "id": "0OiJQ8Lf2vMa",
        "outputId": "c9327c5e-7c7e-4c24-993d-5783064f5dc2"
      },
      "source": [
        "mex_pw_work.head()"
      ],
      "execution_count": null,
      "outputs": [
        {
          "output_type": "execute_result",
          "data": {
            "text/html": [
              "<div>\n",
              "<style scoped>\n",
              "    .dataframe tbody tr th:only-of-type {\n",
              "        vertical-align: middle;\n",
              "    }\n",
              "\n",
              "    .dataframe tbody tr th {\n",
              "        vertical-align: top;\n",
              "    }\n",
              "\n",
              "    .dataframe thead th {\n",
              "        text-align: right;\n",
              "    }\n",
              "</style>\n",
              "<table border=\"1\" class=\"dataframe\">\n",
              "  <thead>\n",
              "    <tr style=\"text-align: right;\">\n",
              "      <th></th>\n",
              "      <th>Country</th>\n",
              "      <th>Year</th>\n",
              "      <th>Percent Woman</th>\n",
              "    </tr>\n",
              "  </thead>\n",
              "  <tbody>\n",
              "    <tr>\n",
              "      <th>31</th>\n",
              "      <td>México</td>\n",
              "      <td>1991</td>\n",
              "      <td>19.099001</td>\n",
              "    </tr>\n",
              "    <tr>\n",
              "      <th>32</th>\n",
              "      <td>México</td>\n",
              "      <td>1992</td>\n",
              "      <td>18.482000</td>\n",
              "    </tr>\n",
              "    <tr>\n",
              "      <th>33</th>\n",
              "      <td>México</td>\n",
              "      <td>1993</td>\n",
              "      <td>17.917999</td>\n",
              "    </tr>\n",
              "    <tr>\n",
              "      <th>34</th>\n",
              "      <td>México</td>\n",
              "      <td>1994</td>\n",
              "      <td>16.532000</td>\n",
              "    </tr>\n",
              "    <tr>\n",
              "      <th>35</th>\n",
              "      <td>México</td>\n",
              "      <td>1995</td>\n",
              "      <td>15.253000</td>\n",
              "    </tr>\n",
              "  </tbody>\n",
              "</table>\n",
              "</div>"
            ],
            "text/plain": [
              "   Country  Year  Percent Woman\n",
              "31  México  1991      19.099001\n",
              "32  México  1992      18.482000\n",
              "33  México  1993      17.917999\n",
              "34  México  1994      16.532000\n",
              "35  México  1995      15.253000"
            ]
          },
          "metadata": {
            "tags": []
          },
          "execution_count": 106
        }
      ]
    },
    {
      "cell_type": "markdown",
      "metadata": {
        "id": "ftuxSE1t3oCE"
      },
      "source": [
        "## **GINI**"
      ]
    },
    {
      "cell_type": "code",
      "metadata": {
        "id": "fAMAfcDP1tJ8"
      },
      "source": [
        "mex_gini_work = mex_gini.loc[(mex_gini.GINI.notnull())]"
      ],
      "execution_count": null,
      "outputs": []
    },
    {
      "cell_type": "code",
      "metadata": {
        "colab": {
          "base_uri": "https://localhost:8080/",
          "height": 206
        },
        "id": "wcc09_vq12z4",
        "outputId": "a66c8e9d-4507-448b-aea8-afc09d15e00b"
      },
      "source": [
        "mex_gini_work.head()"
      ],
      "execution_count": null,
      "outputs": [
        {
          "output_type": "execute_result",
          "data": {
            "text/html": [
              "<div>\n",
              "<style scoped>\n",
              "    .dataframe tbody tr th:only-of-type {\n",
              "        vertical-align: middle;\n",
              "    }\n",
              "\n",
              "    .dataframe tbody tr th {\n",
              "        vertical-align: top;\n",
              "    }\n",
              "\n",
              "    .dataframe thead th {\n",
              "        text-align: right;\n",
              "    }\n",
              "</style>\n",
              "<table border=\"1\" class=\"dataframe\">\n",
              "  <thead>\n",
              "    <tr style=\"text-align: right;\">\n",
              "      <th></th>\n",
              "      <th>Country</th>\n",
              "      <th>Year</th>\n",
              "      <th>GINI</th>\n",
              "    </tr>\n",
              "  </thead>\n",
              "  <tbody>\n",
              "    <tr>\n",
              "      <th>29</th>\n",
              "      <td>México</td>\n",
              "      <td>1989</td>\n",
              "      <td>54.3</td>\n",
              "    </tr>\n",
              "    <tr>\n",
              "      <th>32</th>\n",
              "      <td>México</td>\n",
              "      <td>1992</td>\n",
              "      <td>53.7</td>\n",
              "    </tr>\n",
              "    <tr>\n",
              "      <th>34</th>\n",
              "      <td>México</td>\n",
              "      <td>1994</td>\n",
              "      <td>54.3</td>\n",
              "    </tr>\n",
              "    <tr>\n",
              "      <th>36</th>\n",
              "      <td>México</td>\n",
              "      <td>1996</td>\n",
              "      <td>54.8</td>\n",
              "    </tr>\n",
              "    <tr>\n",
              "      <th>38</th>\n",
              "      <td>México</td>\n",
              "      <td>1998</td>\n",
              "      <td>53.4</td>\n",
              "    </tr>\n",
              "  </tbody>\n",
              "</table>\n",
              "</div>"
            ],
            "text/plain": [
              "   Country  Year  GINI\n",
              "29  México  1989  54.3\n",
              "32  México  1992  53.7\n",
              "34  México  1994  54.3\n",
              "36  México  1996  54.8\n",
              "38  México  1998  53.4"
            ]
          },
          "metadata": {
            "tags": []
          },
          "execution_count": 108
        }
      ]
    },
    {
      "cell_type": "markdown",
      "metadata": {
        "id": "EBJpUtwl3ut4"
      },
      "source": [
        "# **Cruce de datos**\n",
        "\n",
        "> Dado que vamos a determinar la relación entre GINI y PW, debemos de trabajar en los mismos años. Por lo tanto es necesario hacer un cruce en la información. "
      ]
    },
    {
      "cell_type": "code",
      "metadata": {
        "id": "dMKtBBEH2p8f"
      },
      "source": [
        "def cross_data(pw_data, gini_data):\n",
        "  \"\"\"Cross the data to work with the same years\n",
        "  pw_data = DataFrame mex_pw_work\n",
        "  gini_data = DataFrame mex_gini_work\n",
        "  \"\"\"\n",
        "  # Almacenamos los años del pib\n",
        "  years_pw = []\n",
        "  for p in pw_data.Year:\n",
        "    years_pw.append(p)\n",
        "  # Almacenamos los años del indice gini\n",
        "  years_gini = []\n",
        "  for g in gini_data.Year:\n",
        "    years_gini.append(g)\n",
        "  # Los convertimos en conjuntos para poder hacer una intersección\n",
        "  pw = set(years_pw)\n",
        "  gini = set(years_gini)\n",
        "\n",
        "  # Obtenemos los años de similitud\n",
        "  years_to_work = pw.intersection(gini)\n",
        "  years_to_work = list(years_to_work)\n",
        "  # Seleccionamos los registros mediante similitud\n",
        "  pw_to_work = pw_data.loc[pw_data.Year.isin(years_to_work)]\n",
        "  gini_to_work = gini_data.loc[gini_data.Year.isin(years_to_work)]\n",
        "  #print(pib_to_work)\n",
        "  return (pw_to_work, gini_to_work)"
      ],
      "execution_count": null,
      "outputs": []
    },
    {
      "cell_type": "code",
      "metadata": {
        "id": "D50wR2cv836T"
      },
      "source": [
        "mex_pw_to_work, mex_gini_to_work = cross_data(mex_pw_work, mex_gini_work)"
      ],
      "execution_count": null,
      "outputs": []
    },
    {
      "cell_type": "code",
      "metadata": {
        "colab": {
          "base_uri": "https://localhost:8080/",
          "height": 206
        },
        "id": "3vFnovX19E5w",
        "outputId": "b77daae4-3e61-4456-e845-ac149bda70ef"
      },
      "source": [
        "mex_pw_to_work.head()"
      ],
      "execution_count": null,
      "outputs": [
        {
          "output_type": "execute_result",
          "data": {
            "text/html": [
              "<div>\n",
              "<style scoped>\n",
              "    .dataframe tbody tr th:only-of-type {\n",
              "        vertical-align: middle;\n",
              "    }\n",
              "\n",
              "    .dataframe tbody tr th {\n",
              "        vertical-align: top;\n",
              "    }\n",
              "\n",
              "    .dataframe thead th {\n",
              "        text-align: right;\n",
              "    }\n",
              "</style>\n",
              "<table border=\"1\" class=\"dataframe\">\n",
              "  <thead>\n",
              "    <tr style=\"text-align: right;\">\n",
              "      <th></th>\n",
              "      <th>Country</th>\n",
              "      <th>Year</th>\n",
              "      <th>Percent Woman</th>\n",
              "    </tr>\n",
              "  </thead>\n",
              "  <tbody>\n",
              "    <tr>\n",
              "      <th>32</th>\n",
              "      <td>México</td>\n",
              "      <td>1992</td>\n",
              "      <td>18.482000</td>\n",
              "    </tr>\n",
              "    <tr>\n",
              "      <th>34</th>\n",
              "      <td>México</td>\n",
              "      <td>1994</td>\n",
              "      <td>16.532000</td>\n",
              "    </tr>\n",
              "    <tr>\n",
              "      <th>36</th>\n",
              "      <td>México</td>\n",
              "      <td>1996</td>\n",
              "      <td>17.858000</td>\n",
              "    </tr>\n",
              "    <tr>\n",
              "      <th>38</th>\n",
              "      <td>México</td>\n",
              "      <td>1998</td>\n",
              "      <td>20.355000</td>\n",
              "    </tr>\n",
              "    <tr>\n",
              "      <th>40</th>\n",
              "      <td>México</td>\n",
              "      <td>2000</td>\n",
              "      <td>22.124001</td>\n",
              "    </tr>\n",
              "  </tbody>\n",
              "</table>\n",
              "</div>"
            ],
            "text/plain": [
              "   Country  Year  Percent Woman\n",
              "32  México  1992      18.482000\n",
              "34  México  1994      16.532000\n",
              "36  México  1996      17.858000\n",
              "38  México  1998      20.355000\n",
              "40  México  2000      22.124001"
            ]
          },
          "metadata": {
            "tags": []
          },
          "execution_count": 111
        }
      ]
    },
    {
      "cell_type": "code",
      "metadata": {
        "colab": {
          "base_uri": "https://localhost:8080/",
          "height": 206
        },
        "id": "nRF5k1639wAu",
        "outputId": "9b4d2ccd-0204-4314-d9a1-787163b839db"
      },
      "source": [
        "mex_gini_to_work.head()"
      ],
      "execution_count": null,
      "outputs": [
        {
          "output_type": "execute_result",
          "data": {
            "text/html": [
              "<div>\n",
              "<style scoped>\n",
              "    .dataframe tbody tr th:only-of-type {\n",
              "        vertical-align: middle;\n",
              "    }\n",
              "\n",
              "    .dataframe tbody tr th {\n",
              "        vertical-align: top;\n",
              "    }\n",
              "\n",
              "    .dataframe thead th {\n",
              "        text-align: right;\n",
              "    }\n",
              "</style>\n",
              "<table border=\"1\" class=\"dataframe\">\n",
              "  <thead>\n",
              "    <tr style=\"text-align: right;\">\n",
              "      <th></th>\n",
              "      <th>Country</th>\n",
              "      <th>Year</th>\n",
              "      <th>GINI</th>\n",
              "    </tr>\n",
              "  </thead>\n",
              "  <tbody>\n",
              "    <tr>\n",
              "      <th>32</th>\n",
              "      <td>México</td>\n",
              "      <td>1992</td>\n",
              "      <td>53.7</td>\n",
              "    </tr>\n",
              "    <tr>\n",
              "      <th>34</th>\n",
              "      <td>México</td>\n",
              "      <td>1994</td>\n",
              "      <td>54.3</td>\n",
              "    </tr>\n",
              "    <tr>\n",
              "      <th>36</th>\n",
              "      <td>México</td>\n",
              "      <td>1996</td>\n",
              "      <td>54.8</td>\n",
              "    </tr>\n",
              "    <tr>\n",
              "      <th>38</th>\n",
              "      <td>México</td>\n",
              "      <td>1998</td>\n",
              "      <td>53.4</td>\n",
              "    </tr>\n",
              "    <tr>\n",
              "      <th>40</th>\n",
              "      <td>México</td>\n",
              "      <td>2000</td>\n",
              "      <td>52.6</td>\n",
              "    </tr>\n",
              "  </tbody>\n",
              "</table>\n",
              "</div>"
            ],
            "text/plain": [
              "   Country  Year  GINI\n",
              "32  México  1992  53.7\n",
              "34  México  1994  54.3\n",
              "36  México  1996  54.8\n",
              "38  México  1998  53.4\n",
              "40  México  2000  52.6"
            ]
          },
          "metadata": {
            "tags": []
          },
          "execution_count": 112
        }
      ]
    },
    {
      "cell_type": "code",
      "metadata": {
        "colab": {
          "base_uri": "https://localhost:8080/",
          "height": 328
        },
        "id": "xkkSkQjaG5QV",
        "outputId": "76148a90-a9a0-4e82-9346-b719b6e486ff"
      },
      "source": [
        "import matplotlib\n",
        "import matplotlib.pyplot as plt\n",
        "\n",
        "x_pw = mex_pw_to_work.Year\n",
        "y_pw = mex_pw_to_work['Percent Woman']\n",
        "\n",
        "fig, ax = plt.subplots()\n",
        "#Colocamos una etiqueta en el eje Y\n",
        "ax.set_ylabel('Crecimiento')\n",
        "ax.set_xlabel('Años')\n",
        "#Colocamos una etiqueta en el eje X\n",
        "ax.set_title('Porcentaje de empleados en el sector\\n industrial, mujeres - México')\n",
        "#Creamos la grafica de barras utilizando 'paises' como eje X y 'ventas' como eje y.\n",
        "ax.plot(x_pw, y_pw, 'rx-')\n",
        "#plt.bar(x_Pib, y_pib)\n",
        "\n",
        "plt.xticks(rotation=75)\n",
        "plt.grid()\n",
        "#Finalmente mostramos la grafica con el metodo show()\n",
        "\n",
        "#plt.show()\n",
        "#cambiar titulo \n",
        "#plt.savefig('mex_pw.png', bbox_inches='tight',pad_inches = 0)"
      ],
      "execution_count": null,
      "outputs": [
        {
          "output_type": "display_data",
          "data": {
            "image/png": "[encoded data removed]",
            "text/plain": [
              "<Figure size 432x288 with 1 Axes>"
            ]
          },
          "metadata": {
            "tags": [],
            "needs_background": "light"
          }
        }
      ]
    },
    {
      "cell_type": "code",
      "metadata": {
        "colab": {
          "base_uri": "https://localhost:8080/",
          "height": 313
        },
        "id": "hAvIQyHrKBy1",
        "outputId": "2503e270-33d7-4297-dbb3-301ec4a023c7"
      },
      "source": [
        "x_gini = mex_gini_to_work.Year\n",
        "y_gini = mex_gini_to_work.GINI\n",
        "fig, ax = plt.subplots()\n",
        "#Colocamos una etiqueta en el eje Y\n",
        "ax.set_ylabel('Puntaje Gini')\n",
        "ax.set_xlabel('Años')\n",
        "#Colocamos una etiqueta en el eje X\n",
        "ax.set_title('Indice Gini - México')\n",
        "#Creamos la grafica de barras utilizando 'paises' como eje X y 'ventas' como eje y.\n",
        "#plt.bar(x_gini, y_gini)\n",
        "ax.plot(x_gini, y_gini, 'rv-')\n",
        "plt.xticks(rotation=75)\n",
        "plt.grid()\n",
        "#Finalmente mostramos la grafica con el metodo show()\n",
        "plt.show()\n",
        "#plt.savefig('gini_mexico.png', bbox_inches='tight',pad_inches = 0)"
      ],
      "execution_count": null,
      "outputs": [
        {
          "output_type": "display_data",
          "data": {
            "image/png": "[encoded data removed]",
            "text/plain": [
              "<Figure size 432x288 with 1 Axes>"
            ]
          },
          "metadata": {
            "tags": [],
            "needs_background": "light"
          }
        }
      ]
    },
    {
      "cell_type": "markdown",
      "metadata": {
        "id": "882dJf1VevD-"
      },
      "source": [
        "> **Correlación entre el indice gini y el porcentaje de empleo femenino: México**"
      ]
    },
    {
      "cell_type": "code",
      "metadata": {
        "colab": {
          "base_uri": "https://localhost:8080/"
        },
        "id": "Aqgwv3N63l0d",
        "outputId": "be94c758-9454-4ea2-f9cd-0db72360774e"
      },
      "source": [
        "r = pearsonr(y_gini, y_pw)\n",
        "r[0]"
      ],
      "execution_count": null,
      "outputs": [
        {
          "output_type": "execute_result",
          "data": {
            "text/plain": [
              "0.3229954401826552"
            ]
          },
          "metadata": {
            "tags": []
          },
          "execution_count": 115
        }
      ]
    },
    {
      "cell_type": "markdown",
      "metadata": {
        "id": "5QZZ1Vsi2pC2"
      },
      "source": [
        "# México: Gini & PW"
      ]
    },
    {
      "cell_type": "code",
      "metadata": {
        "colab": {
          "base_uri": "https://localhost:8080/",
          "height": 314
        },
        "id": "fryCGg2d2tq9",
        "outputId": "293a64db-47aa-428b-db54-9ceb50fe92dc"
      },
      "source": [
        "x_gini = mex_gini_to_work.Year\n",
        "y_gini = mex_gini_to_work.GINI\n",
        "x_pw = mex_pw_to_work.Year\n",
        "y_pw = mex_pw_to_work['Percent Woman']\n",
        "fig, ax = plt.subplots()\n",
        "#Colocamos una etiqueta en el eje Y\n",
        "ax.set_ylabel('Porcentaje')\n",
        "ax.set_xlabel('Años')\n",
        "#Colocamos una etiqueta en el eje X\n",
        "ax.set_title('Índice Gini & Porcentaje de empleo femenino, México')\n",
        "#Creamos la grafica de barras utilizando 'paises' como eje X y 'ventas' como eje y.\n",
        "#plt.bar(x_gini, y_gini)\n",
        "plt.plot(x_gini, y_gini, 'rv-', label='Índice Gini')\n",
        "plt.plot(x_pw, y_pw, 'bx-', label='Empleo femenino')\n",
        "plt.xticks(rotation=75)\n",
        "plt.grid()\n",
        "#Finalmente mostramos la grafica con el metodo show()\n",
        "plt.legend(loc='best')\n",
        "plt.show()\n",
        "\n",
        "#plt.savefig('gini_mexico.png', bbox_inches='tight',pad_inches = 0)"
      ],
      "execution_count": null,
      "outputs": [
        {
          "output_type": "display_data",
          "data": {
            "image/png": "[encoded data removed]",
            "text/plain": [
              "<Figure size 432x288 with 1 Axes>"
            ]
          },
          "metadata": {
            "tags": [],
            "needs_background": "light"
          }
        }
      ]
    },
    {
      "cell_type": "markdown",
      "metadata": {
        "id": "gsDCCWZ7d31E"
      },
      "source": [
        "# Gini y PW para un pais de primer mundo"
      ]
    },
    {
      "cell_type": "code",
      "metadata": {
        "id": "bB2nYHGDekAS"
      },
      "source": [
        "ale_pw = data_to_work_pw('Alemania', indus_woman)\n",
        "ale_gini = data_to_work_gini(\"Alemania\", gini)"
      ],
      "execution_count": null,
      "outputs": []
    },
    {
      "cell_type": "code",
      "metadata": {
        "colab": {
          "base_uri": "https://localhost:8080/",
          "height": 206
        },
        "id": "agpAiH8UeRBM",
        "outputId": "30b23c78-6dac-43f6-e99e-6c37de99bca3"
      },
      "source": [
        "ale_gini.head()"
      ],
      "execution_count": null,
      "outputs": [
        {
          "output_type": "execute_result",
          "data": {
            "text/html": [
              "<div>\n",
              "<style scoped>\n",
              "    .dataframe tbody tr th:only-of-type {\n",
              "        vertical-align: middle;\n",
              "    }\n",
              "\n",
              "    .dataframe tbody tr th {\n",
              "        vertical-align: top;\n",
              "    }\n",
              "\n",
              "    .dataframe thead th {\n",
              "        text-align: right;\n",
              "    }\n",
              "</style>\n",
              "<table border=\"1\" class=\"dataframe\">\n",
              "  <thead>\n",
              "    <tr style=\"text-align: right;\">\n",
              "      <th></th>\n",
              "      <th>Country</th>\n",
              "      <th>Year</th>\n",
              "      <th>GINI</th>\n",
              "    </tr>\n",
              "  </thead>\n",
              "  <tbody>\n",
              "    <tr>\n",
              "      <th>0</th>\n",
              "      <td>Alemania</td>\n",
              "      <td>1960</td>\n",
              "      <td>NaN</td>\n",
              "    </tr>\n",
              "    <tr>\n",
              "      <th>1</th>\n",
              "      <td>Alemania</td>\n",
              "      <td>1961</td>\n",
              "      <td>NaN</td>\n",
              "    </tr>\n",
              "    <tr>\n",
              "      <th>2</th>\n",
              "      <td>Alemania</td>\n",
              "      <td>1962</td>\n",
              "      <td>NaN</td>\n",
              "    </tr>\n",
              "    <tr>\n",
              "      <th>3</th>\n",
              "      <td>Alemania</td>\n",
              "      <td>1963</td>\n",
              "      <td>NaN</td>\n",
              "    </tr>\n",
              "    <tr>\n",
              "      <th>4</th>\n",
              "      <td>Alemania</td>\n",
              "      <td>1964</td>\n",
              "      <td>NaN</td>\n",
              "    </tr>\n",
              "  </tbody>\n",
              "</table>\n",
              "</div>"
            ],
            "text/plain": [
              "    Country  Year  GINI\n",
              "0  Alemania  1960   NaN\n",
              "1  Alemania  1961   NaN\n",
              "2  Alemania  1962   NaN\n",
              "3  Alemania  1963   NaN\n",
              "4  Alemania  1964   NaN"
            ]
          },
          "metadata": {
            "tags": []
          },
          "execution_count": 118
        }
      ]
    },
    {
      "cell_type": "code",
      "metadata": {
        "colab": {
          "base_uri": "https://localhost:8080/",
          "height": 206
        },
        "id": "iC0Bwak9eR8p",
        "outputId": "fc4b2622-f3eb-4da0-e6a1-a52ec21c6542"
      },
      "source": [
        "ale_pw.head()"
      ],
      "execution_count": null,
      "outputs": [
        {
          "output_type": "execute_result",
          "data": {
            "text/html": [
              "<div>\n",
              "<style scoped>\n",
              "    .dataframe tbody tr th:only-of-type {\n",
              "        vertical-align: middle;\n",
              "    }\n",
              "\n",
              "    .dataframe tbody tr th {\n",
              "        vertical-align: top;\n",
              "    }\n",
              "\n",
              "    .dataframe thead th {\n",
              "        text-align: right;\n",
              "    }\n",
              "</style>\n",
              "<table border=\"1\" class=\"dataframe\">\n",
              "  <thead>\n",
              "    <tr style=\"text-align: right;\">\n",
              "      <th></th>\n",
              "      <th>Country</th>\n",
              "      <th>Year</th>\n",
              "      <th>Percent Woman</th>\n",
              "    </tr>\n",
              "  </thead>\n",
              "  <tbody>\n",
              "    <tr>\n",
              "      <th>0</th>\n",
              "      <td>Alemania</td>\n",
              "      <td>1960</td>\n",
              "      <td>NaN</td>\n",
              "    </tr>\n",
              "    <tr>\n",
              "      <th>1</th>\n",
              "      <td>Alemania</td>\n",
              "      <td>1961</td>\n",
              "      <td>NaN</td>\n",
              "    </tr>\n",
              "    <tr>\n",
              "      <th>2</th>\n",
              "      <td>Alemania</td>\n",
              "      <td>1962</td>\n",
              "      <td>NaN</td>\n",
              "    </tr>\n",
              "    <tr>\n",
              "      <th>3</th>\n",
              "      <td>Alemania</td>\n",
              "      <td>1963</td>\n",
              "      <td>NaN</td>\n",
              "    </tr>\n",
              "    <tr>\n",
              "      <th>4</th>\n",
              "      <td>Alemania</td>\n",
              "      <td>1964</td>\n",
              "      <td>NaN</td>\n",
              "    </tr>\n",
              "  </tbody>\n",
              "</table>\n",
              "</div>"
            ],
            "text/plain": [
              "    Country  Year  Percent Woman\n",
              "0  Alemania  1960            NaN\n",
              "1  Alemania  1961            NaN\n",
              "2  Alemania  1962            NaN\n",
              "3  Alemania  1963            NaN\n",
              "4  Alemania  1964            NaN"
            ]
          },
          "metadata": {
            "tags": []
          },
          "execution_count": 119
        }
      ]
    },
    {
      "cell_type": "markdown",
      "metadata": {
        "id": "o9_CTsiKffj2"
      },
      "source": [
        "## Elección de valores no nulos para trabajo"
      ]
    },
    {
      "cell_type": "code",
      "metadata": {
        "id": "0xg2BYOUe21U"
      },
      "source": [
        "ale_gini_work = ale_gini.loc[(ale_gini.GINI.notnull())]\n",
        "ale_pw_work = ale_pw.loc[(ale_pw['Percent Woman'].notnull())]"
      ],
      "execution_count": null,
      "outputs": []
    },
    {
      "cell_type": "code",
      "metadata": {
        "colab": {
          "base_uri": "https://localhost:8080/",
          "height": 206
        },
        "id": "w4gfW3D7fJ6B",
        "outputId": "1317b37a-76b9-4235-c90e-4d145b2e7566"
      },
      "source": [
        "ale_gini_work.head()"
      ],
      "execution_count": null,
      "outputs": [
        {
          "output_type": "execute_result",
          "data": {
            "text/html": [
              "<div>\n",
              "<style scoped>\n",
              "    .dataframe tbody tr th:only-of-type {\n",
              "        vertical-align: middle;\n",
              "    }\n",
              "\n",
              "    .dataframe tbody tr th {\n",
              "        vertical-align: top;\n",
              "    }\n",
              "\n",
              "    .dataframe thead th {\n",
              "        text-align: right;\n",
              "    }\n",
              "</style>\n",
              "<table border=\"1\" class=\"dataframe\">\n",
              "  <thead>\n",
              "    <tr style=\"text-align: right;\">\n",
              "      <th></th>\n",
              "      <th>Country</th>\n",
              "      <th>Year</th>\n",
              "      <th>GINI</th>\n",
              "    </tr>\n",
              "  </thead>\n",
              "  <tbody>\n",
              "    <tr>\n",
              "      <th>31</th>\n",
              "      <td>Alemania</td>\n",
              "      <td>1991</td>\n",
              "      <td>29.2</td>\n",
              "    </tr>\n",
              "    <tr>\n",
              "      <th>34</th>\n",
              "      <td>Alemania</td>\n",
              "      <td>1994</td>\n",
              "      <td>29.2</td>\n",
              "    </tr>\n",
              "    <tr>\n",
              "      <th>35</th>\n",
              "      <td>Alemania</td>\n",
              "      <td>1995</td>\n",
              "      <td>28.9</td>\n",
              "    </tr>\n",
              "    <tr>\n",
              "      <th>38</th>\n",
              "      <td>Alemania</td>\n",
              "      <td>1998</td>\n",
              "      <td>28.3</td>\n",
              "    </tr>\n",
              "    <tr>\n",
              "      <th>40</th>\n",
              "      <td>Alemania</td>\n",
              "      <td>2000</td>\n",
              "      <td>28.8</td>\n",
              "    </tr>\n",
              "  </tbody>\n",
              "</table>\n",
              "</div>"
            ],
            "text/plain": [
              "     Country  Year  GINI\n",
              "31  Alemania  1991  29.2\n",
              "34  Alemania  1994  29.2\n",
              "35  Alemania  1995  28.9\n",
              "38  Alemania  1998  28.3\n",
              "40  Alemania  2000  28.8"
            ]
          },
          "metadata": {
            "tags": []
          },
          "execution_count": 121
        }
      ]
    },
    {
      "cell_type": "code",
      "metadata": {
        "colab": {
          "base_uri": "https://localhost:8080/",
          "height": 206
        },
        "id": "F8rIdGYFfdSe",
        "outputId": "0dd76053-06f3-44b4-c85f-8a5f7c9e9361"
      },
      "source": [
        "ale_pw_work.head()"
      ],
      "execution_count": null,
      "outputs": [
        {
          "output_type": "execute_result",
          "data": {
            "text/html": [
              "<div>\n",
              "<style scoped>\n",
              "    .dataframe tbody tr th:only-of-type {\n",
              "        vertical-align: middle;\n",
              "    }\n",
              "\n",
              "    .dataframe tbody tr th {\n",
              "        vertical-align: top;\n",
              "    }\n",
              "\n",
              "    .dataframe thead th {\n",
              "        text-align: right;\n",
              "    }\n",
              "</style>\n",
              "<table border=\"1\" class=\"dataframe\">\n",
              "  <thead>\n",
              "    <tr style=\"text-align: right;\">\n",
              "      <th></th>\n",
              "      <th>Country</th>\n",
              "      <th>Year</th>\n",
              "      <th>Percent Woman</th>\n",
              "    </tr>\n",
              "  </thead>\n",
              "  <tbody>\n",
              "    <tr>\n",
              "      <th>31</th>\n",
              "      <td>Alemania</td>\n",
              "      <td>1991</td>\n",
              "      <td>21.899000</td>\n",
              "    </tr>\n",
              "    <tr>\n",
              "      <th>32</th>\n",
              "      <td>Alemania</td>\n",
              "      <td>1992</td>\n",
              "      <td>21.493000</td>\n",
              "    </tr>\n",
              "    <tr>\n",
              "      <th>33</th>\n",
              "      <td>Alemania</td>\n",
              "      <td>1993</td>\n",
              "      <td>20.924000</td>\n",
              "    </tr>\n",
              "    <tr>\n",
              "      <th>34</th>\n",
              "      <td>Alemania</td>\n",
              "      <td>1994</td>\n",
              "      <td>20.620001</td>\n",
              "    </tr>\n",
              "    <tr>\n",
              "      <th>35</th>\n",
              "      <td>Alemania</td>\n",
              "      <td>1995</td>\n",
              "      <td>20.204000</td>\n",
              "    </tr>\n",
              "  </tbody>\n",
              "</table>\n",
              "</div>"
            ],
            "text/plain": [
              "     Country  Year  Percent Woman\n",
              "31  Alemania  1991      21.899000\n",
              "32  Alemania  1992      21.493000\n",
              "33  Alemania  1993      20.924000\n",
              "34  Alemania  1994      20.620001\n",
              "35  Alemania  1995      20.204000"
            ]
          },
          "metadata": {
            "tags": []
          },
          "execution_count": 122
        }
      ]
    },
    {
      "cell_type": "code",
      "metadata": {
        "id": "T-0z4jKYfkzl"
      },
      "source": [
        "ale_pw_to_work, ale_gini_to_work = cross_data(ale_pw_work, ale_gini_work)"
      ],
      "execution_count": null,
      "outputs": []
    },
    {
      "cell_type": "code",
      "metadata": {
        "colab": {
          "base_uri": "https://localhost:8080/",
          "height": 206
        },
        "id": "gBEp650sfsyc",
        "outputId": "8da275bc-528b-4703-82f6-a68270b98cce"
      },
      "source": [
        "ale_gini_to_work.head()"
      ],
      "execution_count": null,
      "outputs": [
        {
          "output_type": "execute_result",
          "data": {
            "text/html": [
              "<div>\n",
              "<style scoped>\n",
              "    .dataframe tbody tr th:only-of-type {\n",
              "        vertical-align: middle;\n",
              "    }\n",
              "\n",
              "    .dataframe tbody tr th {\n",
              "        vertical-align: top;\n",
              "    }\n",
              "\n",
              "    .dataframe thead th {\n",
              "        text-align: right;\n",
              "    }\n",
              "</style>\n",
              "<table border=\"1\" class=\"dataframe\">\n",
              "  <thead>\n",
              "    <tr style=\"text-align: right;\">\n",
              "      <th></th>\n",
              "      <th>Country</th>\n",
              "      <th>Year</th>\n",
              "      <th>GINI</th>\n",
              "    </tr>\n",
              "  </thead>\n",
              "  <tbody>\n",
              "    <tr>\n",
              "      <th>31</th>\n",
              "      <td>Alemania</td>\n",
              "      <td>1991</td>\n",
              "      <td>29.2</td>\n",
              "    </tr>\n",
              "    <tr>\n",
              "      <th>34</th>\n",
              "      <td>Alemania</td>\n",
              "      <td>1994</td>\n",
              "      <td>29.2</td>\n",
              "    </tr>\n",
              "    <tr>\n",
              "      <th>35</th>\n",
              "      <td>Alemania</td>\n",
              "      <td>1995</td>\n",
              "      <td>28.9</td>\n",
              "    </tr>\n",
              "    <tr>\n",
              "      <th>38</th>\n",
              "      <td>Alemania</td>\n",
              "      <td>1998</td>\n",
              "      <td>28.3</td>\n",
              "    </tr>\n",
              "    <tr>\n",
              "      <th>40</th>\n",
              "      <td>Alemania</td>\n",
              "      <td>2000</td>\n",
              "      <td>28.8</td>\n",
              "    </tr>\n",
              "  </tbody>\n",
              "</table>\n",
              "</div>"
            ],
            "text/plain": [
              "     Country  Year  GINI\n",
              "31  Alemania  1991  29.2\n",
              "34  Alemania  1994  29.2\n",
              "35  Alemania  1995  28.9\n",
              "38  Alemania  1998  28.3\n",
              "40  Alemania  2000  28.8"
            ]
          },
          "metadata": {
            "tags": []
          },
          "execution_count": 124
        }
      ]
    },
    {
      "cell_type": "code",
      "metadata": {
        "colab": {
          "base_uri": "https://localhost:8080/",
          "height": 206
        },
        "id": "3R1cTFrLfuyV",
        "outputId": "6c9f9c3a-ff81-46d1-d3de-3245c8c9fab7"
      },
      "source": [
        "ale_pw_to_work.head()"
      ],
      "execution_count": null,
      "outputs": [
        {
          "output_type": "execute_result",
          "data": {
            "text/html": [
              "<div>\n",
              "<style scoped>\n",
              "    .dataframe tbody tr th:only-of-type {\n",
              "        vertical-align: middle;\n",
              "    }\n",
              "\n",
              "    .dataframe tbody tr th {\n",
              "        vertical-align: top;\n",
              "    }\n",
              "\n",
              "    .dataframe thead th {\n",
              "        text-align: right;\n",
              "    }\n",
              "</style>\n",
              "<table border=\"1\" class=\"dataframe\">\n",
              "  <thead>\n",
              "    <tr style=\"text-align: right;\">\n",
              "      <th></th>\n",
              "      <th>Country</th>\n",
              "      <th>Year</th>\n",
              "      <th>Percent Woman</th>\n",
              "    </tr>\n",
              "  </thead>\n",
              "  <tbody>\n",
              "    <tr>\n",
              "      <th>31</th>\n",
              "      <td>Alemania</td>\n",
              "      <td>1991</td>\n",
              "      <td>21.899000</td>\n",
              "    </tr>\n",
              "    <tr>\n",
              "      <th>34</th>\n",
              "      <td>Alemania</td>\n",
              "      <td>1994</td>\n",
              "      <td>20.620001</td>\n",
              "    </tr>\n",
              "    <tr>\n",
              "      <th>35</th>\n",
              "      <td>Alemania</td>\n",
              "      <td>1995</td>\n",
              "      <td>20.204000</td>\n",
              "    </tr>\n",
              "    <tr>\n",
              "      <th>38</th>\n",
              "      <td>Alemania</td>\n",
              "      <td>1998</td>\n",
              "      <td>18.892000</td>\n",
              "    </tr>\n",
              "    <tr>\n",
              "      <th>40</th>\n",
              "      <td>Alemania</td>\n",
              "      <td>2000</td>\n",
              "      <td>18.274000</td>\n",
              "    </tr>\n",
              "  </tbody>\n",
              "</table>\n",
              "</div>"
            ],
            "text/plain": [
              "     Country  Year  Percent Woman\n",
              "31  Alemania  1991      21.899000\n",
              "34  Alemania  1994      20.620001\n",
              "35  Alemania  1995      20.204000\n",
              "38  Alemania  1998      18.892000\n",
              "40  Alemania  2000      18.274000"
            ]
          },
          "metadata": {
            "tags": []
          },
          "execution_count": 125
        }
      ]
    },
    {
      "cell_type": "code",
      "metadata": {
        "colab": {
          "base_uri": "https://localhost:8080/",
          "height": 328
        },
        "id": "lnECD3EKfwYO",
        "outputId": "1f6474a9-528a-440b-de50-f945c1dc1559"
      },
      "source": [
        "ale_x_pw = ale_pw_to_work.Year\n",
        "ale_y_pw = ale_pw_to_work['Percent Woman']\n",
        "\n",
        "fig, ax = plt.subplots()\n",
        "#Colocamos una etiqueta en el eje Y\n",
        "ax.set_ylabel('Porcentaje crecimiento')\n",
        "ax.set_xlabel('Años')\n",
        "#Colocamos una etiqueta en el eje X\n",
        "ax.set_title('Porcentaje de empleados en el sector\\n industrial, mujeres - Alemania')\n",
        "#Creamos la grafica de barras utilizando 'paises' como eje X y 'ventas' como eje y.\n",
        "ax.plot(ale_x_pw, ale_y_pw, 'rx-')\n",
        "#plt.bar(x_Pib, y_pib)\n",
        "\n",
        "plt.xticks(rotation=75)\n",
        "plt.grid()\n",
        "#Finalmente mostramos la grafica con el metodo show()\n",
        "plt.show()"
      ],
      "execution_count": null,
      "outputs": [
        {
          "output_type": "display_data",
          "data": {
            "image/png": "[encoded data removed]",
            "text/plain": [
              "<Figure size 432x288 with 1 Axes>"
            ]
          },
          "metadata": {
            "tags": [],
            "needs_background": "light"
          }
        }
      ]
    },
    {
      "cell_type": "code",
      "metadata": {
        "colab": {
          "base_uri": "https://localhost:8080/",
          "height": 313
        },
        "id": "GGd0imQkgVlx",
        "outputId": "c9f5d36b-6bbd-45d3-f91b-a59c432e0c02"
      },
      "source": [
        "ale_x_gini = ale_gini_to_work.Year\n",
        "ale_y_gini = ale_gini_to_work.GINI\n",
        "\n",
        "fig, ax = plt.subplots()\n",
        "#Colocamos una etiqueta en el eje Y\n",
        "ax.set_ylabel('Puntaje Gini')\n",
        "ax.set_xlabel('Años')\n",
        "#Colocamos una etiqueta en el eje X\n",
        "ax.set_title('Indice Gini - Alemania')\n",
        "#Creamos la grafica de barras utilizando 'paises' como eje X y 'ventas' como eje y.\n",
        "#plt.bar(x_gini, y_gini)\n",
        "ax.plot(ale_x_gini, ale_y_gini, 'rv-')\n",
        "plt.xticks(rotation=75)\n",
        "plt.grid()\n",
        "#Finalmente mostramos la grafica con el metodo show()\n",
        "plt.show()"
      ],
      "execution_count": null,
      "outputs": [
        {
          "output_type": "display_data",
          "data": {
            "image/png": "[encoded data removed]",
            "text/plain": [
              "<Figure size 432x288 with 1 Axes>"
            ]
          },
          "metadata": {
            "tags": [],
            "needs_background": "light"
          }
        }
      ]
    },
    {
      "cell_type": "markdown",
      "metadata": {
        "id": "JP4NHj6ufI95"
      },
      "source": [
        "> **Correlación entre el indice gini y el porcentaje de empleo femenino: Alemania**"
      ]
    },
    {
      "cell_type": "code",
      "metadata": {
        "colab": {
          "base_uri": "https://localhost:8080/"
        },
        "id": "OHTrnn503__C",
        "outputId": "cb2fd712-51ed-4a7f-d058-58e688311422"
      },
      "source": [
        "r = pearsonr(ale_y_gini, ale_y_pw)\n",
        "r[0]"
      ],
      "execution_count": null,
      "outputs": [
        {
          "output_type": "execute_result",
          "data": {
            "text/plain": [
              "-0.7665894044011308"
            ]
          },
          "metadata": {
            "tags": []
          },
          "execution_count": 128
        }
      ]
    },
    {
      "cell_type": "markdown",
      "metadata": {
        "id": "OVGfxBtG3r40"
      },
      "source": [
        "# Alemania: Gini & PW"
      ]
    },
    {
      "cell_type": "code",
      "metadata": {
        "colab": {
          "base_uri": "https://localhost:8080/",
          "height": 314
        },
        "id": "uLIt0eZm3xij",
        "outputId": "6dead789-12d6-42aa-c6c2-25b4338aff64"
      },
      "source": [
        "x_gini = ale_gini_to_work.Year\n",
        "y_gini = ale_gini_to_work.GINI\n",
        "x_pw = ale_pw_to_work.Year\n",
        "y_pw = ale_pw_to_work['Percent Woman']\n",
        "fig, ax = plt.subplots()\n",
        "#Colocamos una etiqueta en el eje Y\n",
        "ax.set_ylabel('Porcentaje')\n",
        "ax.set_xlabel('Años')\n",
        "#Colocamos una etiqueta en el eje X\n",
        "ax.set_title('Índice Gini & Porcentaje de empleo femenino, Alemania')\n",
        "#Creamos la grafica de barras utilizando 'paises' como eje X y 'ventas' como eje y.\n",
        "#plt.bar(x_gini, y_gini)\n",
        "plt.plot(x_gini, y_gini, 'rv-', label='Índice Gini')\n",
        "plt.plot(x_pw, y_pw, 'bx-', label='Empleo femenino')\n",
        "plt.xticks(rotation=75)\n",
        "plt.grid()\n",
        "#Finalmente mostramos la grafica con el metodo show()\n",
        "plt.legend(loc='best')\n",
        "plt.show()"
      ],
      "execution_count": null,
      "outputs": [
        {
          "output_type": "display_data",
          "data": {
            "image/png": "[encoded data removed]",
            "text/plain": [
              "<Figure size 432x288 with 1 Axes>"
            ]
          },
          "metadata": {
            "tags": [],
            "needs_background": "light"
          }
        }
      ]
    },
    {
      "cell_type": "markdown",
      "metadata": {
        "id": "0rx-g9rafQV1"
      },
      "source": [
        "# Comparativa GINI: México vs Alemania"
      ]
    },
    {
      "cell_type": "markdown",
      "metadata": {
        "id": "c0kLPvf2gZp4"
      },
      "source": [
        "> Para lograr una buena grááfica necesito un procesamiento cruzado, trabajar con los mismos datos"
      ]
    },
    {
      "cell_type": "code",
      "metadata": {
        "id": "9EByqBLdkNeL"
      },
      "source": [
        "# Tomamos ambos los años para evaluar en cuales coinciden\n",
        "mex_years_gini_tmp = list(x_gini)\n",
        "ale_years_gini_tmp = list(ale_x_gini)\n",
        "# Debido que Alemania cuenta con menos años, buscaremos que México\n",
        "# coincida con Alemania"
      ],
      "execution_count": null,
      "outputs": []
    },
    {
      "cell_type": "code",
      "metadata": {
        "colab": {
          "base_uri": "https://localhost:8080/"
        },
        "id": "L2Ohg2tPgpDL",
        "outputId": "44c0bef1-7e46-4a22-bac3-8f8052fe46b3"
      },
      "source": [
        "same_year = []\n",
        "for year in ale_years_gini_tmp:\n",
        "  for i in mex_years_gini_tmp:\n",
        "    if year == i:\n",
        "      same_year.append(year)\n",
        "\n",
        "print(same_year)\n"
      ],
      "execution_count": null,
      "outputs": [
        {
          "output_type": "stream",
          "text": [
            "['1994', '1998', '2000', '2002', '2004', '2005', '2006', '2008', '2010', '2016']\n"
          ],
          "name": "stdout"
        }
      ]
    },
    {
      "cell_type": "code",
      "metadata": {
        "colab": {
          "base_uri": "https://localhost:8080/"
        },
        "id": "7N3i0I77grao",
        "outputId": "fd3a7e0d-ca06-44b1-99b1-142086855ffd"
      },
      "source": [
        "mex_gini_to_cross = []\n",
        "ale_gini_to_cross = []\n",
        "for i in range(len(same_year)):\n",
        "  try:\n",
        "    me_gin = float(mex_gini_to_work.loc[mex_gini_to_work.Year == same_year[i], 'GINI'])\n",
        "    mex_gini_to_cross.append(me_gin)\n",
        "  except:\n",
        "    pass\n",
        "\n",
        "  try:\n",
        "    al_gin = float(ale_gini_to_work.loc[ale_gini_to_work.Year == same_year[i], 'GINI'])\n",
        "    ale_gini_to_cross.append(al_gin)\n",
        "  except:\n",
        "    pass"
      ],
      "execution_count": null,
      "outputs": [
        {
          "output_type": "stream",
          "text": [
            "10 10\n"
          ],
          "name": "stdout"
        }
      ]
    },
    {
      "cell_type": "markdown",
      "metadata": {
        "id": "fqbgIlNXkdaq"
      },
      "source": [
        "> **Una vez tenemos los datos cruzados, procedemos a graficar para el indice Gini**"
      ]
    },
    {
      "cell_type": "code",
      "metadata": {
        "colab": {
          "base_uri": "https://localhost:8080/",
          "height": 312
        },
        "id": "pIeBUaegi3aW",
        "outputId": "e5656060-c90c-41d5-af89-932b85f476cc"
      },
      "source": [
        "fig, ax = plt.subplots()\n",
        "#Colocamos una etiqueta en el eje Y\n",
        "ax.set_ylabel('Puntaje Gini')\n",
        "ax.set_xlabel('Años')\n",
        "#Colocamos una etiqueta en el eje X\n",
        "ax.set_title('Indice Gini: México & Alemania')\n",
        "#plt.bar(x_gini, y_gini)\n",
        "plt.plot(same_year, mex_gini_to_cross, 'rv-', same_year, ale_gini_to_cross, 'bx-')\n",
        "#ax.plot(x_gini, y_gini, 'rv-', x_pib, y_pib, 'bx-')\n",
        "plt.xticks(rotation=75)\n",
        "plt.grid()\n",
        "plt.legend(['Gini - México', 'Gini - Alemania'], loc=1)\n",
        "#Finalmente mostramos la grafica con el metodo show()\n",
        "plt.show()"
      ],
      "execution_count": null,
      "outputs": [
        {
          "output_type": "display_data",
          "data": {
            "image/png": "[encoded data removed]",
            "text/plain": [
              "<Figure size 432x288 with 1 Axes>"
            ]
          },
          "metadata": {
            "tags": [],
            "needs_background": "light"
          }
        }
      ]
    },
    {
      "cell_type": "markdown",
      "metadata": {
        "id": "31HOF_Gzleni"
      },
      "source": [
        "# Comparativa PW: México vs Alemania"
      ]
    },
    {
      "cell_type": "code",
      "metadata": {
        "id": "Wige2FonjeFQ"
      },
      "source": [
        "mex_pw_to_cross = []\n",
        "ale_pw_to_cross = []\n",
        "for i in range(len(same_year)):\n",
        "  try:\n",
        "    me_pw = float(mex_pw_to_work.loc[mex_pw_to_work.Year == same_year[i], 'Percent Woman'])\n",
        "    mex_pw_to_cross.append(me_pw)\n",
        "  except:\n",
        "    pass\n",
        "\n",
        "  try:\n",
        "    al_pw = float(ale_pw_to_work.loc[ale_pw_to_work.Year == same_year[i], 'Percent Woman'])\n",
        "    ale_pw_to_cross.append(al_pw)\n",
        "  except:\n",
        "    pass"
      ],
      "execution_count": null,
      "outputs": []
    },
    {
      "cell_type": "code",
      "metadata": {
        "colab": {
          "base_uri": "https://localhost:8080/",
          "height": 327
        },
        "id": "DhgLdFz6l3FP",
        "outputId": "fdb8c2ee-2c30-4473-d3e1-bd6a6c32831c"
      },
      "source": [
        "fig, ax = plt.subplots()\n",
        "#Colocamos una etiqueta en el eje Y\n",
        "ax.set_ylabel('Porcentaje de crecimiento')\n",
        "ax.set_xlabel('Años')\n",
        "#Colocamos una etiqueta en el eje X\n",
        "ax.set_title('Porcentaje de empleados en el sector\\n industrial, mujeres: México & Alemania')\n",
        "#plt.bar(x_gini, y_gini)\n",
        "plt.plot(same_year, mex_pw_to_cross, 'rv-', same_year, ale_pw_to_cross, 'bx-')\n",
        "#ax.plot(x_gini, y_gini, 'rv-', x_pib, y_pib, 'bx-')\n",
        "plt.xticks(rotation=75)\n",
        "plt.grid()\n",
        "plt.legend(['PW - México', 'PW - Alemania'], loc=1)\n",
        "#Finalmente mostramos la grafica con el metodo show()\n",
        "plt.show()"
      ],
      "execution_count": null,
      "outputs": [
        {
          "output_type": "display_data",
          "data": {
            "image/png": "[encoded data removed]",
            "text/plain": [
              "<Figure size 432x288 with 1 Axes>"
            ]
          },
          "metadata": {
            "tags": [],
            "needs_background": "light"
          }
        }
      ]
    },
    {
      "cell_type": "code",
      "metadata": {
        "id": "5NQp6mKvl3jP"
      },
      "source": [
        ""
      ],
      "execution_count": null,
      "outputs": []
    }
  ]
}